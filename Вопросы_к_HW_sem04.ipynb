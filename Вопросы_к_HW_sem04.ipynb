{
  "nbformat": 4,
  "nbformat_minor": 0,
  "metadata": {
    "colab": {
      "provenance": []
    },
    "kernelspec": {
      "name": "python3",
      "display_name": "Python 3"
    },
    "language_info": {
      "name": "python"
    }
  },
  "cells": [
    {
      "cell_type": "markdown",
      "source": [
        "Александр, здравствуйте! Ниже вопросы, которые у меня возникли в ходе выполнения ДЗ. Подскажите, пожалуйста, как бороться с такими явлениями? (можно в комментариях к ДЗ, либо на каком-нибудь семинаре)"
      ],
      "metadata": {
        "id": "QXE2bt6kbVuV"
      }
    },
    {
      "cell_type": "code",
      "execution_count": null,
      "metadata": {
        "id": "zOqtHsPrR5P9"
      },
      "outputs": [],
      "source": [
        "# Импорт необходимых библиотек\n",
        "\n",
        "from lxml import html\n",
        "import requests\n",
        "import json\n",
        "import pandas as pd\n",
        "import re"
      ]
    },
    {
      "cell_type": "code",
      "source": [
        "url = 'https://new.russwimming.ru/data/list/treneri_specialisti.html'\n",
        "resp = requests.get(url=url, headers = {'User-Agent' : 'Mozilla/5.0 (Windows NT 10.0; Win64; x64) AppleWebKit/537.36 (KHTML, like Gecko) Chrome/120.0.0.0 Safari/537.36'})\n",
        "tree = html.fromstring(resp.content)"
      ],
      "metadata": {
        "id": "QR6eBv1_SJGW"
      },
      "execution_count": null,
      "outputs": []
    },
    {
      "cell_type": "markdown",
      "source": [
        "**Вопрос 1.**<br>\n",
        "Код html страницы с таблицей, где указан тренерский состав, на сайте Всероссийской федерации плавания, на мой взгляд, кривая, как ятаган. Приведу отдельный пример:"
      ],
      "metadata": {
        "id": "HZ6hcUUsSXxG"
      }
    },
    {
      "cell_type": "code",
      "source": [
        "# Выведем информацию по двум тренерам: Бачину и Василеноку\n",
        "# Ограничемся только ФИО и специализацией\n",
        "\n",
        "coach_bachin = {'coach_name': re.sub(r'[^А-я, 0-9.-;:]', '', ''.join(tree.xpath('//table[@class=\"tcalendar\"]/tbody/tr[6]/td[1]/text()'))),\n",
        "                'specialization': re.sub(r'[^А-я, 0-9.-;:]', '',''.join(tree.xpath('//table[@class=\"tcalendar\"]/tbody/tr[6]/td[5]/p/text()')))}\n",
        "coach_vasilenok = {'coach_name': re.sub(r'[^А-я, 0-9.-;:]', '', ''.join(tree.xpath('//table[@class=\"tcalendar\"]/tbody/tr[7]/td[1]/text()'))),\n",
        "                'specialization': re.sub(r'[^А-я, 0-9.-;:]', '',''.join(tree.xpath('//table[@class=\"tcalendar\"]/tbody/tr[7]/td[5]/p/text()')))}\n",
        "\n",
        "print(coach_bachin)\n",
        "print(coach_vasilenok)"
      ],
      "metadata": {
        "colab": {
          "base_uri": "https://localhost:8080/"
        },
        "id": "yKPlj8_MSXX3",
        "outputId": "863e2ba3-aa31-415f-98de-72072c7ef79a"
      },
      "execution_count": null,
      "outputs": [
        {
          "output_type": "stream",
          "name": "stdout",
          "text": [
            "{'coach_name': 'Бачин Валерий Петрович', 'specialization': 'все стили'}\n",
            "{'coach_name': 'Василенок Алексей Викторович', 'specialization': ''}\n"
          ]
        }
      ]
    },
    {
      "cell_type": "markdown",
      "source": [
        "Код отличается только индексами, в остальном все одинаково, НО!<br>\n",
        "для Василенока в специализации пусто, хотя в таблице на сайте эта ячейка заполнена. Это значение можно получить следующим запросом:"
      ],
      "metadata": {
        "id": "5329yX8eWTfK"
      }
    },
    {
      "cell_type": "code",
      "source": [
        "coach_vasilenok = {'coach_name': re.sub(r'[^А-я, 0-9.-;:]', '', ''.join(tree.xpath('//table[@class=\"tcalendar\"]/tbody/tr[7]/td[1]/text()'))),\n",
        "                'specialization': re.sub(r'[^А-я, 0-9.-;:]', '',''.join(tree.xpath('//table[@class=\"tcalendar\"]/tbody/tr[7]/td[5]/text()')))}\n",
        "print(coach_vasilenok)"
      ],
      "metadata": {
        "colab": {
          "base_uri": "https://localhost:8080/"
        },
        "id": "A5kONqTeXQF6",
        "outputId": "63bdd6e6-3263-42c1-9bcf-99feed0b807e"
      },
      "execution_count": null,
      "outputs": [
        {
          "output_type": "stream",
          "name": "stdout",
          "text": [
            "{'coach_name': 'Василенок Алексей Викторович', 'specialization': 'вСЕ СТИЛИ'}\n"
          ]
        }
      ]
    },
    {
      "cell_type": "markdown",
      "source": [
        "Отличие в тэге \"p\", что придает уникальность данному запросу, но из-за этого не получится прогнать его через цикл. Вопрос: как с этим быть?<br>\n",
        "Может есть другой способ составления запроса через xpath с учетом таких \"особенностей\" html?"
      ],
      "metadata": {
        "id": "QKe4XtKaXg0C"
      }
    },
    {
      "cell_type": "markdown",
      "source": [
        "**Вопрос 2.**<br>\n",
        "В таблице есть пустые значения. Рассмотрим это на примере тех же джентльменов:"
      ],
      "metadata": {
        "id": "EMqrYX-bYlk1"
      }
    },
    {
      "cell_type": "code",
      "source": [
        "coaches = []\n",
        "for i in range(6, 8):\n",
        "  coaches.append({'coach_name': re.sub(r'[^А-я, 0-9.-;:]', '', ''.join(tree.xpath(f'//table[@class=\"tcalendar\"]/tbody/tr[{i}]/td[1]/text()'))),\n",
        "            'sport_rank_regalia': re.sub(r'[^А-я, 0-9.-;:]', '', ''.join(tree.xpath(f'//table[@class=\"tcalendar\"]/tbody/tr[{i}]/td[2]/p/text()')))})"
      ],
      "metadata": {
        "id": "b3XXmDdmY59b"
      },
      "execution_count": null,
      "outputs": []
    },
    {
      "cell_type": "code",
      "source": [
        "df = pd.DataFrame(coaches)\n",
        "df"
      ],
      "metadata": {
        "colab": {
          "base_uri": "https://localhost:8080/",
          "height": 112
        },
        "id": "l-oiwkKsYU4W",
        "outputId": "5e9adc6f-7a03-47a2-e717-514b66d2d054"
      },
      "execution_count": null,
      "outputs": [
        {
          "output_type": "execute_result",
          "data": {
            "text/plain": [
              "                     coach_name sport_rank_regalia\n",
              "0        Бачин Валерий Петрович                ЗТР\n",
              "1  Василенок Алексей Викторович                   "
            ],
            "text/html": [
              "\n",
              "  <div id=\"df-8015ee03-cee9-4691-baf6-05002a7a5cf3\" class=\"colab-df-container\">\n",
              "    <div>\n",
              "<style scoped>\n",
              "    .dataframe tbody tr th:only-of-type {\n",
              "        vertical-align: middle;\n",
              "    }\n",
              "\n",
              "    .dataframe tbody tr th {\n",
              "        vertical-align: top;\n",
              "    }\n",
              "\n",
              "    .dataframe thead th {\n",
              "        text-align: right;\n",
              "    }\n",
              "</style>\n",
              "<table border=\"1\" class=\"dataframe\">\n",
              "  <thead>\n",
              "    <tr style=\"text-align: right;\">\n",
              "      <th></th>\n",
              "      <th>coach_name</th>\n",
              "      <th>sport_rank_regalia</th>\n",
              "    </tr>\n",
              "  </thead>\n",
              "  <tbody>\n",
              "    <tr>\n",
              "      <th>0</th>\n",
              "      <td>Бачин Валерий Петрович</td>\n",
              "      <td>ЗТР</td>\n",
              "    </tr>\n",
              "    <tr>\n",
              "      <th>1</th>\n",
              "      <td>Василенок Алексей Викторович</td>\n",
              "      <td></td>\n",
              "    </tr>\n",
              "  </tbody>\n",
              "</table>\n",
              "</div>\n",
              "    <div class=\"colab-df-buttons\">\n",
              "\n",
              "  <div class=\"colab-df-container\">\n",
              "    <button class=\"colab-df-convert\" onclick=\"convertToInteractive('df-8015ee03-cee9-4691-baf6-05002a7a5cf3')\"\n",
              "            title=\"Convert this dataframe to an interactive table.\"\n",
              "            style=\"display:none;\">\n",
              "\n",
              "  <svg xmlns=\"http://www.w3.org/2000/svg\" height=\"24px\" viewBox=\"0 -960 960 960\">\n",
              "    <path d=\"M120-120v-720h720v720H120Zm60-500h600v-160H180v160Zm220 220h160v-160H400v160Zm0 220h160v-160H400v160ZM180-400h160v-160H180v160Zm440 0h160v-160H620v160ZM180-180h160v-160H180v160Zm440 0h160v-160H620v160Z\"/>\n",
              "  </svg>\n",
              "    </button>\n",
              "\n",
              "  <style>\n",
              "    .colab-df-container {\n",
              "      display:flex;\n",
              "      gap: 12px;\n",
              "    }\n",
              "\n",
              "    .colab-df-convert {\n",
              "      background-color: #E8F0FE;\n",
              "      border: none;\n",
              "      border-radius: 50%;\n",
              "      cursor: pointer;\n",
              "      display: none;\n",
              "      fill: #1967D2;\n",
              "      height: 32px;\n",
              "      padding: 0 0 0 0;\n",
              "      width: 32px;\n",
              "    }\n",
              "\n",
              "    .colab-df-convert:hover {\n",
              "      background-color: #E2EBFA;\n",
              "      box-shadow: 0px 1px 2px rgba(60, 64, 67, 0.3), 0px 1px 3px 1px rgba(60, 64, 67, 0.15);\n",
              "      fill: #174EA6;\n",
              "    }\n",
              "\n",
              "    .colab-df-buttons div {\n",
              "      margin-bottom: 4px;\n",
              "    }\n",
              "\n",
              "    [theme=dark] .colab-df-convert {\n",
              "      background-color: #3B4455;\n",
              "      fill: #D2E3FC;\n",
              "    }\n",
              "\n",
              "    [theme=dark] .colab-df-convert:hover {\n",
              "      background-color: #434B5C;\n",
              "      box-shadow: 0px 1px 3px 1px rgba(0, 0, 0, 0.15);\n",
              "      filter: drop-shadow(0px 1px 2px rgba(0, 0, 0, 0.3));\n",
              "      fill: #FFFFFF;\n",
              "    }\n",
              "  </style>\n",
              "\n",
              "    <script>\n",
              "      const buttonEl =\n",
              "        document.querySelector('#df-8015ee03-cee9-4691-baf6-05002a7a5cf3 button.colab-df-convert');\n",
              "      buttonEl.style.display =\n",
              "        google.colab.kernel.accessAllowed ? 'block' : 'none';\n",
              "\n",
              "      async function convertToInteractive(key) {\n",
              "        const element = document.querySelector('#df-8015ee03-cee9-4691-baf6-05002a7a5cf3');\n",
              "        const dataTable =\n",
              "          await google.colab.kernel.invokeFunction('convertToInteractive',\n",
              "                                                    [key], {});\n",
              "        if (!dataTable) return;\n",
              "\n",
              "        const docLinkHtml = 'Like what you see? Visit the ' +\n",
              "          '<a target=\"_blank\" href=https://colab.research.google.com/notebooks/data_table.ipynb>data table notebook</a>'\n",
              "          + ' to learn more about interactive tables.';\n",
              "        element.innerHTML = '';\n",
              "        dataTable['output_type'] = 'display_data';\n",
              "        await google.colab.output.renderOutput(dataTable, element);\n",
              "        const docLink = document.createElement('div');\n",
              "        docLink.innerHTML = docLinkHtml;\n",
              "        element.appendChild(docLink);\n",
              "      }\n",
              "    </script>\n",
              "  </div>\n",
              "\n",
              "\n",
              "<div id=\"df-ce5ad240-8ba1-49d0-805a-b4f94b14fe68\">\n",
              "  <button class=\"colab-df-quickchart\" onclick=\"quickchart('df-ce5ad240-8ba1-49d0-805a-b4f94b14fe68')\"\n",
              "            title=\"Suggest charts\"\n",
              "            style=\"display:none;\">\n",
              "\n",
              "<svg xmlns=\"http://www.w3.org/2000/svg\" height=\"24px\"viewBox=\"0 0 24 24\"\n",
              "     width=\"24px\">\n",
              "    <g>\n",
              "        <path d=\"M19 3H5c-1.1 0-2 .9-2 2v14c0 1.1.9 2 2 2h14c1.1 0 2-.9 2-2V5c0-1.1-.9-2-2-2zM9 17H7v-7h2v7zm4 0h-2V7h2v10zm4 0h-2v-4h2v4z\"/>\n",
              "    </g>\n",
              "</svg>\n",
              "  </button>\n",
              "\n",
              "<style>\n",
              "  .colab-df-quickchart {\n",
              "      --bg-color: #E8F0FE;\n",
              "      --fill-color: #1967D2;\n",
              "      --hover-bg-color: #E2EBFA;\n",
              "      --hover-fill-color: #174EA6;\n",
              "      --disabled-fill-color: #AAA;\n",
              "      --disabled-bg-color: #DDD;\n",
              "  }\n",
              "\n",
              "  [theme=dark] .colab-df-quickchart {\n",
              "      --bg-color: #3B4455;\n",
              "      --fill-color: #D2E3FC;\n",
              "      --hover-bg-color: #434B5C;\n",
              "      --hover-fill-color: #FFFFFF;\n",
              "      --disabled-bg-color: #3B4455;\n",
              "      --disabled-fill-color: #666;\n",
              "  }\n",
              "\n",
              "  .colab-df-quickchart {\n",
              "    background-color: var(--bg-color);\n",
              "    border: none;\n",
              "    border-radius: 50%;\n",
              "    cursor: pointer;\n",
              "    display: none;\n",
              "    fill: var(--fill-color);\n",
              "    height: 32px;\n",
              "    padding: 0;\n",
              "    width: 32px;\n",
              "  }\n",
              "\n",
              "  .colab-df-quickchart:hover {\n",
              "    background-color: var(--hover-bg-color);\n",
              "    box-shadow: 0 1px 2px rgba(60, 64, 67, 0.3), 0 1px 3px 1px rgba(60, 64, 67, 0.15);\n",
              "    fill: var(--button-hover-fill-color);\n",
              "  }\n",
              "\n",
              "  .colab-df-quickchart-complete:disabled,\n",
              "  .colab-df-quickchart-complete:disabled:hover {\n",
              "    background-color: var(--disabled-bg-color);\n",
              "    fill: var(--disabled-fill-color);\n",
              "    box-shadow: none;\n",
              "  }\n",
              "\n",
              "  .colab-df-spinner {\n",
              "    border: 2px solid var(--fill-color);\n",
              "    border-color: transparent;\n",
              "    border-bottom-color: var(--fill-color);\n",
              "    animation:\n",
              "      spin 1s steps(1) infinite;\n",
              "  }\n",
              "\n",
              "  @keyframes spin {\n",
              "    0% {\n",
              "      border-color: transparent;\n",
              "      border-bottom-color: var(--fill-color);\n",
              "      border-left-color: var(--fill-color);\n",
              "    }\n",
              "    20% {\n",
              "      border-color: transparent;\n",
              "      border-left-color: var(--fill-color);\n",
              "      border-top-color: var(--fill-color);\n",
              "    }\n",
              "    30% {\n",
              "      border-color: transparent;\n",
              "      border-left-color: var(--fill-color);\n",
              "      border-top-color: var(--fill-color);\n",
              "      border-right-color: var(--fill-color);\n",
              "    }\n",
              "    40% {\n",
              "      border-color: transparent;\n",
              "      border-right-color: var(--fill-color);\n",
              "      border-top-color: var(--fill-color);\n",
              "    }\n",
              "    60% {\n",
              "      border-color: transparent;\n",
              "      border-right-color: var(--fill-color);\n",
              "    }\n",
              "    80% {\n",
              "      border-color: transparent;\n",
              "      border-right-color: var(--fill-color);\n",
              "      border-bottom-color: var(--fill-color);\n",
              "    }\n",
              "    90% {\n",
              "      border-color: transparent;\n",
              "      border-bottom-color: var(--fill-color);\n",
              "    }\n",
              "  }\n",
              "</style>\n",
              "\n",
              "  <script>\n",
              "    async function quickchart(key) {\n",
              "      const quickchartButtonEl =\n",
              "        document.querySelector('#' + key + ' button');\n",
              "      quickchartButtonEl.disabled = true;  // To prevent multiple clicks.\n",
              "      quickchartButtonEl.classList.add('colab-df-spinner');\n",
              "      try {\n",
              "        const charts = await google.colab.kernel.invokeFunction(\n",
              "            'suggestCharts', [key], {});\n",
              "      } catch (error) {\n",
              "        console.error('Error during call to suggestCharts:', error);\n",
              "      }\n",
              "      quickchartButtonEl.classList.remove('colab-df-spinner');\n",
              "      quickchartButtonEl.classList.add('colab-df-quickchart-complete');\n",
              "    }\n",
              "    (() => {\n",
              "      let quickchartButtonEl =\n",
              "        document.querySelector('#df-ce5ad240-8ba1-49d0-805a-b4f94b14fe68 button');\n",
              "      quickchartButtonEl.style.display =\n",
              "        google.colab.kernel.accessAllowed ? 'block' : 'none';\n",
              "    })();\n",
              "  </script>\n",
              "</div>\n",
              "    </div>\n",
              "  </div>\n"
            ]
          },
          "metadata": {},
          "execution_count": 27
        }
      ]
    },
    {
      "cell_type": "markdown",
      "source": [
        "У Бачина колонка \"Спорт. Звание, регалии\" заполнена, а у Василенока нет. На семинаре вы говорили, что это приведет к ошибкам в анализе и искажению статистических данных. Собственно, вопрос тот же: как с этим быть? При работе с датафреймом заполнить пустые значения нулями, None или сделать что-то еще?"
      ],
      "metadata": {
        "id": "99lvjzORbCot"
      }
    },
    {
      "cell_type": "markdown",
      "source": [
        "**Вопрос 3 (повышенной сложности).**<br>\n",
        "Изначально я планировал работать с сайтом Olympteka.ru. Если посмотреть структуру сайта, то она очень простенькая. Но, как я не пытался, так и не смог извлечь ни одной ссылки."
      ],
      "metadata": {
        "id": "e8cQ_ElQPyLM"
      }
    },
    {
      "cell_type": "code",
      "source": [
        "url = 'https://olympteka.ru/olymp/athlets/by_sport/3/1.html?md=gold'\n",
        "resp = requests.get(url=url, headers = {'User-Agent' : 'Mozilla/5.0 (Windows NT 10.0; Win64; x64) AppleWebKit/537.36 (KHTML, like Gecko) Chrome/120.0.0.0 Safari/537.36'})\n",
        "resp.status_code"
      ],
      "metadata": {
        "colab": {
          "base_uri": "https://localhost:8080/"
        },
        "id": "94E9xNnEc8eg",
        "outputId": "6b5e2339-9bb5-42b2-cd00-9df6efe0a929"
      },
      "execution_count": null,
      "outputs": [
        {
          "output_type": "execute_result",
          "data": {
            "text/plain": [
              "200"
            ]
          },
          "metadata": {},
          "execution_count": 3
        }
      ]
    },
    {
      "cell_type": "code",
      "source": [
        "tree = html.fromstring(html=resp.content)"
      ],
      "metadata": {
        "id": "L080vRNZRSXB"
      },
      "execution_count": null,
      "outputs": []
    },
    {
      "cell_type": "code",
      "source": [
        "# Попытка вывести список рядов из таблицы\n",
        "sportsmen = tree.xpath('//table[@class=\"tb-eo tb-athlets tba-gold\"]/tbody/tr')\n",
        "sportsmen"
      ],
      "metadata": {
        "colab": {
          "base_uri": "https://localhost:8080/"
        },
        "id": "4cY0-UPeRT0n",
        "outputId": "fd666f10-52bc-4b73-f97b-02538fbd1eb9"
      },
      "execution_count": null,
      "outputs": [
        {
          "output_type": "execute_result",
          "data": {
            "text/plain": [
              "[]"
            ]
          },
          "metadata": {},
          "execution_count": 6
        }
      ]
    },
    {
      "cell_type": "code",
      "source": [
        "# Попытка обратиться непосредственно к определенному элементу таблицы\n",
        "athlete_name = tree.xpath('//table[@class=\"tb-eo tb-athlets tba-gold\"]/tbody/tr[2]/td[1]/a/span/text()')\n",
        "athlete_name"
      ],
      "metadata": {
        "colab": {
          "base_uri": "https://localhost:8080/"
        },
        "id": "evX_a7p-RrGH",
        "outputId": "0c1f2ad6-ab1b-424a-db6c-60f206e69962"
      },
      "execution_count": null,
      "outputs": [
        {
          "output_type": "execute_result",
          "data": {
            "text/plain": [
              "[]"
            ]
          },
          "metadata": {},
          "execution_count": 7
        }
      ]
    },
    {
      "cell_type": "markdown",
      "source": [
        "Везде, как видите, получаются пустые списки. При этом неважно - задаешь ли отностительный путь или абсолютный с кучей div'ов, результат один."
      ],
      "metadata": {
        "id": "Lt5r-X1GSL0U"
      }
    },
    {
      "cell_type": "markdown",
      "source": [
        "Поэтому вопрос: что я делаю не так? Почему не удается выцепить ни одного значения?"
      ],
      "metadata": {
        "id": "oLSYxxcLSvy_"
      }
    }
  ]
}